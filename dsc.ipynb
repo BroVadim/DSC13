{
 "metadata": {
  "language_info": {
   "codemirror_mode": {
    "name": "ipython",
    "version": 3
   },
   "file_extension": ".py",
   "mimetype": "text/x-python",
   "name": "python",
   "nbconvert_exporter": "python",
   "pygments_lexer": "ipython3",
   "version": "3.7.4-final"
  },
  "orig_nbformat": 2,
  "kernelspec": {
   "name": "python374jvsc74a57bd0709df3ce15ab67dd2d8269f8dda0bdc6697ee9dab9ed0fbd8ba56f292f917ff1",
   "display_name": "Python 3.7.4 64-bit (conda)"
  }
 },
 "nbformat": 4,
 "nbformat_minor": 2,
 "cells": [
  {
   "cell_type": "code",
   "execution_count": 1,
   "metadata": {},
   "outputs": [],
   "source": [
    "import pandas as pd\n",
    "import re\n",
    "import requests\n",
    "import urllib\n",
    "import nltk\n",
    "from nltk.corpus import stopwords\n",
    "import pymorphy2\n",
    "import warnings\n",
    "warnings.filterwarnings(\"ignore\")\n",
    "from tqdm import tqdm\n",
    "\n",
    "#nltk.download('stopwords')\n",
    "#nltk.download('punkt')"
   ]
  },
  {
   "cell_type": "code",
   "execution_count": 2,
   "metadata": {},
   "outputs": [],
   "source": [
    "separator = r'\\', \\''\n",
    "frame_columns_names = [\"Тема обращения\",\"Суть обращения\",\n",
    "                        \"Чиновник\",\"Должность\",\n",
    "                        \"Дата подачи заявления\"]\n",
    "df = pd.read_csv('Mosru_dump_all_pages.csv',\n",
    "                    encoding = 'utf-8',\n",
    "                    sep = separator,\n",
    "                    names = None,\n",
    "                    skiprows = 1)\n",
    "df.columns = frame_columns_names"
   ]
  },
  {
   "cell_type": "code",
   "execution_count": 3,
   "metadata": {},
   "outputs": [],
   "source": [
    "stop_words = stopwords.words('russian')\n",
    "morph = pymorphy2.MorphAnalyzer()"
   ]
  },
  {
   "cell_type": "code",
   "execution_count": 4,
   "metadata": {},
   "outputs": [],
   "source": [
    "def clean_string(string):\n",
    "    dirt_patterns = ['\\'','\\\\n','\\n','\\\\\\\\/S+','\\\\\\\\','/\\S+','\\(.*\\)']\n",
    "    for pattern in dirt_patterns:\n",
    "        string = re.sub(pattern,'',string)\n",
    "    return string"
   ]
  },
  {
   "cell_type": "code",
   "execution_count": 5,
   "metadata": {},
   "outputs": [],
   "source": [
    "def search_theme(string):\n",
    "    res = re.findall('«.*»',string)\n",
    "    return res[0] if len(res)>0 else \"\""
   ]
  },
  {
   "cell_type": "code",
   "execution_count": 6,
   "metadata": {},
   "outputs": [],
   "source": [
    "def search_address(string):\n",
    "    res = re.findall('по адресу\\s?(.*$)',string)\n",
    "    return res[0] if len(res)>0 else \"\""
   ]
  },
  {
   "cell_type": "code",
   "execution_count": 7,
   "metadata": {},
   "outputs": [],
   "source": [
    "def preprocessingText(line):\n",
    "    line = line.lower()\n",
    "    line = re.sub(r'\\d+','',line,flags=re.UNICODE)#delete numbers\n",
    "    line = re.sub(r'[^\\w\\s]',' ',line,flags=re.UNICODE)\n",
    "    tl = nltk.word_tokenize(line) #tl - tokenize line\n",
    "    nft = [morph.parse(token)[0].normal_form for token in tl if len(token)>1]#nft - normal form token\n",
    "    clean_words_list = [normalToken for normalToken in nft if normalToken not in stop_words and len(normalToken)>1]#преобразованный список\n",
    "    return ' '.join(clean_words_list)"
   ]
  },
  {
   "cell_type": "code",
   "execution_count": 8,
   "metadata": {},
   "outputs": [],
   "source": [
    "for column in frame_columns_names:\n",
    "    df[column] = df[column].apply(clean_string)"
   ]
  },
  {
   "cell_type": "code",
   "execution_count": 9,
   "metadata": {},
   "outputs": [],
   "source": [
    "df[\"theme\"] = df['Тема обращения'].apply(search_theme)"
   ]
  },
  {
   "cell_type": "code",
   "execution_count": 10,
   "metadata": {},
   "outputs": [],
   "source": [
    "df[\"address\"] = df['Тема обращения'].apply(search_address)"
   ]
  },
  {
   "cell_type": "code",
   "execution_count": 11,
   "metadata": {},
   "outputs": [],
   "source": [
    "df['Obr_clean'] = df['Суть обращения'].apply(preprocessingText)"
   ]
  },
  {
   "cell_type": "code",
   "execution_count": 12,
   "metadata": {},
   "outputs": [
    {
     "output_type": "execute_result",
     "data": {
      "text/plain": [
       "                                      Тема обращения  \\\n",
       "0  Сообщение о проблеме «Неубранная городская тер...   \n",
       "1  Сообщение о проблеме «Неубранная городская тер...   \n",
       "\n",
       "                                      Суть обращения    Чиновник  \\\n",
       "0  После проведения работ на кабельной канализаци...  Ларин А.С.   \n",
       "1  Очистите опору освещения. Приведите в надлежащ...  Кучма А.А.   \n",
       "\n",
       "                                           Должность   Дата подачи заявления  \\\n",
       "0   начальник Объединения административно-техниче...   01 Марта 2020 в 16:57   \n",
       "1         глава управы района Свиблово города Москвы  16 Января 2020 в 13:54   \n",
       "\n",
       "                               theme              address  \\\n",
       "0  «Неубранная городская территория»    Снежная улица д.6   \n",
       "1  «Неубранная городская территория»  Снежная улица д.24Д   \n",
       "\n",
       "                                           Obr_clean  \n",
       "0  проведение работа кабельный канализация мгтс з...  \n",
       "1  очистить опор освещение привести надлежащий со...  "
      ],
      "text/html": "<div>\n<style scoped>\n    .dataframe tbody tr th:only-of-type {\n        vertical-align: middle;\n    }\n\n    .dataframe tbody tr th {\n        vertical-align: top;\n    }\n\n    .dataframe thead th {\n        text-align: right;\n    }\n</style>\n<table border=\"1\" class=\"dataframe\">\n  <thead>\n    <tr style=\"text-align: right;\">\n      <th></th>\n      <th>Тема обращения</th>\n      <th>Суть обращения</th>\n      <th>Чиновник</th>\n      <th>Должность</th>\n      <th>Дата подачи заявления</th>\n      <th>theme</th>\n      <th>address</th>\n      <th>Obr_clean</th>\n    </tr>\n  </thead>\n  <tbody>\n    <tr>\n      <td>0</td>\n      <td>Сообщение о проблеме «Неубранная городская тер...</td>\n      <td>После проведения работ на кабельной канализаци...</td>\n      <td>Ларин А.С.</td>\n      <td>начальник Объединения административно-техниче...</td>\n      <td>01 Марта 2020 в 16:57</td>\n      <td>«Неубранная городская территория»</td>\n      <td>Снежная улица д.6</td>\n      <td>проведение работа кабельный канализация мгтс з...</td>\n    </tr>\n    <tr>\n      <td>1</td>\n      <td>Сообщение о проблеме «Неубранная городская тер...</td>\n      <td>Очистите опору освещения. Приведите в надлежащ...</td>\n      <td>Кучма А.А.</td>\n      <td>глава управы района Свиблово города Москвы</td>\n      <td>16 Января 2020 в 13:54</td>\n      <td>«Неубранная городская территория»</td>\n      <td>Снежная улица д.24Д</td>\n      <td>очистить опор освещение привести надлежащий со...</td>\n    </tr>\n  </tbody>\n</table>\n</div>"
     },
     "metadata": {},
     "execution_count": 12
    }
   ],
   "source": [
    "df.head(2)"
   ]
  },
  {
   "cell_type": "code",
   "execution_count": 13,
   "metadata": {},
   "outputs": [],
   "source": [
    "df.to_csv('clean_frame.csv',sep='|',encoding='utf-8')"
   ]
  },
  {
   "source": [
    "Вторая часть после загрузки и обработки данных"
   ],
   "cell_type": "markdown",
   "metadata": {}
  },
  {
   "cell_type": "code",
   "execution_count": 14,
   "metadata": {},
   "outputs": [],
   "source": [
    "n_df = pd.read_csv('clean_frame.csv', sep='|', encoding='utf-8')"
   ]
  },
  {
   "cell_type": "code",
   "execution_count": 15,
   "metadata": {},
   "outputs": [],
   "source": [
    "unique_addresses = n_df['address'].unique().tolist()"
   ]
  },
  {
   "cell_type": "code",
   "execution_count": 16,
   "metadata": {},
   "outputs": [],
   "source": [
    "mapbox_token = \"pk.eyJ1IjoidmFkaW05NiIsImEiOiJja25nMGowN2QyNnFlMnFtdTkzYjBjejdkIn0.18dpTc8Vgja2gPDUYgrSkw\""
   ]
  },
  {
   "cell_type": "code",
   "execution_count": 17,
   "metadata": {},
   "outputs": [],
   "source": [
    "def search_district(address):\n",
    "    url = \"https://api.mapbox.com/geocoding/v5/mapbox.places/{0}.json?access_token={1}\".format(urllib.parse.quote(\"Москва \"+str(address)), mapbox_token)\n",
    "    response = requests.get(url)\n",
    "    district = \"\"\n",
    "    try:\n",
    "        district = response.json()['features'][0]['place_name']\n",
    "    except Exception as error:\n",
    "        print(\"Возникла ошибка-{0}, адрес - {1}\".format(str(error),str(address)) )\n",
    "    finally:\n",
    "        return district"
   ]
  },
  {
   "cell_type": "code",
   "execution_count": null,
   "metadata": {},
   "outputs": [],
   "source": [
    "with open('unique_addresses_frame.csv','w',encoding='utf-8') as file:\n",
    "    file.write('Адрес|Полный ответ\\n')\n",
    "    for address in tqdm(unique_addresses):\n",
    "        full_response = search_district(address)\n",
    "        file.write('{0}|{1}\\n'.format(address,full_response))"
   ]
  },
  {
   "cell_type": "code",
   "execution_count": null,
   "metadata": {},
   "outputs": [],
   "source": []
  }
 ]
}