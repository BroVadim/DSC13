{
 "cells": [
  {
   "cell_type": "code",
   "execution_count": null,
   "metadata": {},
   "outputs": [],
   "source": [
    "import warnings\n",
    "warnings.filterwarnings(\"ignore\")\n",
    "import pandas as pd\n",
    "import re\n",
    "import requests\n",
    "import urllib\n",
    "import gensim\n",
    "import gensim.corpora as corpora\n",
    "from gensim.utils import simple_preprocess\n",
    "from gensim.models import CoherenceModel\n",
    "import spacy\n",
    "import nltk\n",
    "from nltk.corpus import stopwords\n",
    "import pymorphy2\n",
    "import pyLDAvis\n",
    "import pyLDAvis.gensim\n",
    "from tqdm import tqdm\n",
    "import matplotlib.pyplot as plt\n",
    "%matplotlib inline\n",
    "#nltk.download('stopwords')\n",
    "#nltk.download('punkt')"
   ]
  },
  {
   "cell_type": "code",
   "execution_count": null,
   "metadata": {},
   "outputs": [],
   "source": [
    "separator = r'\\', \\''\n",
    "frame_columns_names = [\"Тема обращения\",\"Суть обращения\",\n",
    "                        \"Чиновник\",\"Должность\",\n",
    "                        \"Дата подачи заявления\"]\n",
    "df = pd.read_csv('Mosru_dump_all_pages.csv',\n",
    "                    encoding = 'utf-8',\n",
    "                    sep = separator,\n",
    "                    names = None,\n",
    "                    skiprows = 1)\n",
    "df.columns = frame_columns_names"
   ]
  },
  {
   "cell_type": "code",
   "execution_count": null,
   "metadata": {},
   "outputs": [],
   "source": [
    "stop_words = stopwords.words('russian')\n",
    "morph = pymorphy2.MorphAnalyzer()"
   ]
  },
  {
   "cell_type": "code",
   "execution_count": null,
   "metadata": {},
   "outputs": [],
   "source": [
    "def clean_string(string):\n",
    "    #dirt_patterns = [r'\\'',r'\\\\n',r'\\n',r'\\\\\\\\/S+',r'\\\\\\\\',r'/\\S+',r'\\(.*\\)']\n",
    "    dirt_patterns = [r'\\'', r'\\\\n', r'\\n', r'Б\\\\\\\\/Н', r'\\\\\\\\/\\d+',r'\\\\\\\\/', r'\\\\{1,}',r'\\(.*\\)',r'c\\.$',r'ул\\.$',r'-\\d+',r'пер\\.$', r'д\\.']\n",
    "    for pattern in dirt_patterns:\n",
    "        string = re.sub(pattern,'',string)\n",
    "    return string"
   ]
  },
  {
   "cell_type": "code",
   "execution_count": null,
   "metadata": {},
   "outputs": [],
   "source": [
    "def search_theme(string):\n",
    "    res = re.findall(r'«.*»',string)\n",
    "    return res[0] if len(res)>0 else \"\""
   ]
  },
  {
   "cell_type": "code",
   "execution_count": null,
   "metadata": {},
   "outputs": [],
   "source": [
    "def search_address(string):\n",
    "    res = re.findall(r'по адресу\\s?(.*$)',string)\n",
    "    return res[0] if len(res)>0 else \"\""
   ]
  },
  {
   "cell_type": "code",
   "execution_count": null,
   "metadata": {},
   "outputs": [],
   "source": [
    "def preprocessingText(line):\n",
    "    line = line.lower()\n",
    "    line = re.sub(r'\\d+','',line,flags=re.UNICODE)#delete numbers\n",
    "    line = re.sub(r'[^\\w\\s]',' ',line,flags=re.UNICODE)\n",
    "    tl = nltk.word_tokenize(line) #tl - tokenize line\n",
    "    nft = [morph.parse(token)[0].normal_form for token in tl if len(token)>1]#nft - normal form token\n",
    "    clean_words_list = [normalToken for normalToken in nft if normalToken not in stop_words and len(normalToken)>1]#преобразованный список\n",
    "    return ' '.join(clean_words_list)"
   ]
  },
  {
   "cell_type": "code",
   "execution_count": null,
   "metadata": {},
   "outputs": [],
   "source": [
    "def prepare_date(date_string):\n",
    "    months = {'Января':'01','Февраля':'02','Марта':'03','Апреля':'04',\n",
    "                'Мая':'05','Июня':'06','Июля':'07','Августа':'08',\n",
    "                'Сентября':'09','Октября':'10','Ноября':'11','Декабря':'12'}\n",
    "    date_string = re.sub(r'\\s{2,}',' ',str(date_string.strip()))\n",
    "    try:   \n",
    "        split_date_string = date_string.split(' ')\n",
    "        day = split_date_string[0]\n",
    "        month = months[split_date_string[1]]\n",
    "        year = split_date_string[2]\n",
    "        time = split_date_string[4]\n",
    "        full_date_string = \"{0}.{1}.{2} {3}:00\".format(day,month,year,time)      \n",
    "    except Exception as error:\n",
    "        full_date_string = date_string\n",
    "    return full_date_string"
   ]
  },
  {
   "cell_type": "code",
   "execution_count": null,
   "metadata": {},
   "outputs": [],
   "source": [
    "for column in frame_columns_names:\n",
    "    df[column] = df[column].apply(clean_string)"
   ]
  },
  {
   "cell_type": "code",
   "execution_count": null,
   "metadata": {},
   "outputs": [],
   "source": [
    "df[\"Адрес\"] = df['Тема обращения'].apply(search_address)"
   ]
  },
  {
   "cell_type": "code",
   "execution_count": null,
   "metadata": {},
   "outputs": [],
   "source": [
    "df[\"Тема обращения2\"] = df['Тема обращения'].apply(search_theme)"
   ]
  },
  {
   "cell_type": "code",
   "execution_count": null,
   "metadata": {},
   "outputs": [],
   "source": [
    "df['Обращение нормализованное'] = df['Суть обращения'].apply(preprocessingText)"
   ]
  },
  {
   "cell_type": "code",
   "execution_count": null,
   "metadata": {},
   "outputs": [],
   "source": [
    "df[\"Дата подачи заявления\"] = df['Дата подачи заявления'].apply(prepare_date)"
   ]
  },
  {
   "cell_type": "code",
   "execution_count": null,
   "metadata": {},
   "outputs": [],
   "source": [
    "df.to_csv('test.csv', encoding='utf-8', sep='|')"
   ]
  },
  {
   "cell_type": "code",
   "execution_count": null,
   "metadata": {},
   "outputs": [],
   "source": [
    "df.head(2)"
   ]
  },
  {
   "cell_type": "code",
   "execution_count": null,
   "metadata": {},
   "outputs": [],
   "source": [
    "df.to_csv('clean_frame.csv',sep='|',encoding='utf-8')"
   ]
  },
  {
   "cell_type": "markdown",
   "metadata": {},
   "source": [
    "Вторая часть после загрузки и обработки данных (подтянуть адреса c помощью mapbox api)"
   ]
  },
  {
   "cell_type": "code",
   "execution_count": null,
   "metadata": {},
   "outputs": [],
   "source": [
    "n_df = pd.read_csv('clean_frame.csv', sep='|', encoding='utf-8')"
   ]
  },
  {
   "cell_type": "code",
   "execution_count": null,
   "metadata": {},
   "outputs": [],
   "source": [
    "unique_addresses = n_df['Адрес'].unique().tolist()"
   ]
  },
  {
   "cell_type": "code",
   "execution_count": null,
   "metadata": {},
   "outputs": [],
   "source": [
    "mapbox_token = \"pk.eyJ1IjoidmFkaW05NiIsImEiOiJja25nMGowN2QyNnFlMnFtdTkzYjBjejdkIn0.18dpTc8Vgja2gPDUYgrSkw\""
   ]
  },
  {
   "cell_type": "code",
   "execution_count": null,
   "metadata": {},
   "outputs": [],
   "source": [
    "def search_district(address):\n",
    "    url = \"https://api.mapbox.com/geocoding/v5/mapbox.places/{0}.json?access_token={1}\".format(urllib.parse.quote(\"Москва \"+str(address)), mapbox_token)\n",
    "    response = requests.get(url)\n",
    "    district = \"\"\n",
    "    try:\n",
    "        district = response.json()['features'][0]['place_name']\n",
    "    except Exception as error:\n",
    "        print(\"Возникла ошибка-{0}, адрес - {1}\".format(str(error),str(address)) )\n",
    "    finally:\n",
    "        return district"
   ]
  },
  {
   "cell_type": "code",
   "execution_count": null,
   "metadata": {},
   "outputs": [],
   "source": [
    "with open('unique_addresses_frame.csv','w',encoding='utf-8') as file:\n",
    "    file.write('Адрес|Полный ответ\\n')\n",
    "    for address in tqdm(unique_addresses):\n",
    "        full_response = search_district(address)\n",
    "        file.write('{0}|{1}\\n'.format(address,full_response))"
   ]
  },
  {
   "cell_type": "markdown",
   "metadata": {},
   "source": [
    "Схлестываем значения адресов с \"чистым фреймом\""
   ]
  },
  {
   "cell_type": "code",
   "execution_count": null,
   "metadata": {},
   "outputs": [],
   "source": [
    "addresses_frame = pd.read_csv('unique_addresses_frame.csv',encoding='utf-8',sep='|')"
   ]
  },
  {
   "cell_type": "code",
   "execution_count": null,
   "metadata": {},
   "outputs": [],
   "source": [
    "clean_frame = pd.read_csv('clean_frame.csv', encoding='utf-8',sep='|')"
   ]
  },
  {
   "cell_type": "code",
   "execution_count": null,
   "metadata": {},
   "outputs": [],
   "source": [
    "res_frame = clean_frame.merge(addresses_frame, left_on='address', right_on='Адрес', how='left')"
   ]
  },
  {
   "cell_type": "code",
   "execution_count": null,
   "metadata": {},
   "outputs": [],
   "source": [
    "res_frame = pd.merge(clean_frame, addresses_frame,on=\"Адрес\",how='left')###################"
   ]
  },
  {
   "cell_type": "code",
   "execution_count": null,
   "metadata": {},
   "outputs": [],
   "source": [
    "res_frame.head()"
   ]
  },
  {
   "cell_type": "code",
   "execution_count": null,
   "metadata": {},
   "outputs": [],
   "source": [
    "pivot_frame = pd.pivot_table(res_frame, index=['Чиновник'], values=['theme'], aggfunc=[len])"
   ]
  },
  {
   "cell_type": "code",
   "execution_count": null,
   "metadata": {},
   "outputs": [],
   "source": [
    "def search_district(full_address):\n",
    "    searched = re.findall(r'округ\\s+?(.+?),',full_address)\n",
    "    result = full_address if len(searched)==0 else searched[0]\n",
    "    return result        "
   ]
  },
  {
   "cell_type": "code",
   "execution_count": null,
   "metadata": {},
   "outputs": [],
   "source": [
    "res_frame2 = res_frame"
   ]
  },
  {
   "cell_type": "code",
   "execution_count": null,
   "metadata": {},
   "outputs": [],
   "source": [
    "res_frame2['Округ'] = res_frame2['Полный ответ'].apply(search_district)"
   ]
  },
  {
   "cell_type": "code",
   "execution_count": null,
   "metadata": {},
   "outputs": [],
   "source": [
    "districts = res_frame2['Округ'].unique().tolist()"
   ]
  },
  {
   "cell_type": "code",
   "execution_count": null,
   "metadata": {},
   "outputs": [],
   "source": [
    "districts[50:100]"
   ]
  },
  {
   "cell_type": "markdown",
   "metadata": {},
   "source": [
    "Тематическое моделирование"
   ]
  },
  {
   "cell_type": "code",
   "execution_count": null,
   "metadata": {},
   "outputs": [],
   "source": [
    "df = pd.read_csv('clean_frame.csv',encoding='utf-8',sep='|')"
   ]
  },
  {
   "cell_type": "code",
   "execution_count": null,
   "metadata": {},
   "outputs": [],
   "source": [
    "data = df['Obr_clean'].values.tolist()"
   ]
  },
  {
   "cell_type": "code",
   "execution_count": null,
   "metadata": {},
   "outputs": [],
   "source": [
    "data_words = [nltk.word_tokenize(str(line)) for line in tqdm(data)]"
   ]
  },
  {
   "cell_type": "code",
   "execution_count": null,
   "metadata": {},
   "outputs": [],
   "source": [
    "id2word = corpora.Dictionary(data_words)\n",
    "texts = data_words\n",
    "#term document frequency\n",
    "corpus = [id2word.doc2bow(text) for text in texts]"
   ]
  },
  {
   "cell_type": "code",
   "execution_count": null,
   "metadata": {},
   "outputs": [],
   "source": [
    "#количество тем\n",
    "num_topics = 10\n",
    "lda_model = gensim.models.LdaMulticore(corpus = corpus, id2word=id2word, num_topics = num_topics)"
   ]
  },
  {
   "cell_type": "code",
   "execution_count": null,
   "metadata": {},
   "outputs": [],
   "source": [
    "pyLDAvis.enable_notebook()"
   ]
  },
  {
   "cell_type": "code",
   "execution_count": null,
   "metadata": {},
   "outputs": [],
   "source": [
    "LDAvis_prepared = pyLDAvis.gensim.prepare(lda_model, corpus, id2word)\n",
    "LDAvis_prepared"
   ]
  },
  {
   "cell_type": "code",
   "execution_count": null,
   "metadata": {},
   "outputs": [],
   "source": []
  }
 ],
 "metadata": {
  "kernelspec": {
   "name": "python374jvsc74a57bd0709df3ce15ab67dd2d8269f8dda0bdc6697ee9dab9ed0fbd8ba56f292f917ff1",
   "display_name": "Python 3.7.4 64-bit (conda)"
  },
  "language_info": {
   "codemirror_mode": {
    "name": "ipython",
    "version": 3
   },
   "file_extension": ".py",
   "mimetype": "text/x-python",
   "name": "python",
   "nbconvert_exporter": "python",
   "pygments_lexer": "ipython3",
   "version": "3.7.4-final"
  },
  "metadata": {
   "interpreter": {
    "hash": "ea78e861afb46d6d8fb39ea6867daed310b5462ae88f5c484ed1f4cb97c00c16"
   }
  }
 },
 "nbformat": 4,
 "nbformat_minor": 2
}