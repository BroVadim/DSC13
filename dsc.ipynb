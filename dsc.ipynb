{
 "metadata": {
  "language_info": {
   "codemirror_mode": {
    "name": "ipython",
    "version": 3
   },
   "file_extension": ".py",
   "mimetype": "text/x-python",
   "name": "python",
   "nbconvert_exporter": "python",
   "pygments_lexer": "ipython3",
   "version": "3.7.4-final"
  },
  "orig_nbformat": 2,
  "kernelspec": {
   "name": "python374jvsc74a57bd0709df3ce15ab67dd2d8269f8dda0bdc6697ee9dab9ed0fbd8ba56f292f917ff1",
   "display_name": "Python 3.7.4 64-bit (conda)"
  }
 },
 "nbformat": 4,
 "nbformat_minor": 2,
 "cells": [
  {
   "cell_type": "code",
   "execution_count": 1,
   "metadata": {},
   "outputs": [],
   "source": [
    "import pandas as pd\n",
    "import re\n",
    "import requests"
   ]
  },
  {
   "cell_type": "code",
   "execution_count": 7,
   "metadata": {},
   "outputs": [
    {
     "output_type": "stream",
     "name": "stderr",
     "text": [
      "C:\\Programms\\Anaconda\\lib\\site-packages\\ipykernel_launcher.py:2: ParserWarning: Falling back to the 'python' engine because the 'c' engine does not support regex separators (separators > 1 char and different from '\\s+' are interpreted as regex); you can avoid this warning by specifying engine='python'.\n  \n"
     ]
    }
   ],
   "source": [
    "separator = r'\\', \\''\n",
    "df = pd.read_csv('Mosru_dump_all_pages.csv',encoding='utf-8', sep=separator)"
   ]
  },
  {
   "cell_type": "code",
   "execution_count": 19,
   "metadata": {},
   "outputs": [],
   "source": [
    "def clean_string(string):\n",
    "    return re.sub('\\'','',string)"
   ]
  },
  {
   "cell_type": "code",
   "execution_count": 8,
   "metadata": {},
   "outputs": [
    {
     "output_type": "execute_result",
     "data": {
      "text/plain": [
       "  'Сообщение о проблеме «Несоблюдение требований к размещению информационных вывесок» по адресу Снежная улица д.26  \\\n",
       "0  'Сообщение о проблеме «Неубранная городская те...                                                                 \n",
       "1  'Сообщение о проблеме «Неубранная городская те...                                                                 \n",
       "2  'Сообщение о проблеме «Неубранная городская те...                                                                 \n",
       "3  'Сообщение о проблеме «Захламление территории»...                                                                 \n",
       "4  'Сообщение о проблеме «Захламление территории»...                                                                 \n",
       "\n",
       "                                  Выше второго этажа      Ларин А.С.  \\\n",
       "0  По адресу Снежная д24 расположена музыкальная ...      Кучма А.А.   \n",
       "1  После проведения работ на кабельной канализаци...      Ларин А.С.   \n",
       "2  Очистите опору освещения. Приведите в надлежащ...      Кучма А.А.   \n",
       "3  Более двух недель лежит куча грунта в перемешк...  Сержантов С.А.   \n",
       "4  Осколки бордюрного камня спрятаны за дерево, в...    Киселев В.В.   \n",
       "\n",
       "   начальник Объединения административно-технических инспекций города Москвы  \\\n",
       "0         глава управы района Свиблово города Москвы                           \n",
       "1   начальник Объединения административно-техниче...                           \n",
       "2         глава управы района Свиблово города Москвы                           \n",
       "3    и.о. главы управы района Свиблово города Москвы                           \n",
       "4         глава управы района Свиблово города Москвы                           \n",
       "\n",
       "    16 Ноября 2020 в 16:31'  \n",
       "0      05 Мая 2020 в 15:45'  \n",
       "1    01 Марта 2020 в 16:57'  \n",
       "2   16 Января 2020 в 13:54'  \n",
       "3  24 Августа 2019 в 15:39'  \n",
       "4      05 Мая 2019 в 09:11'  "
      ],
      "text/html": "<div>\n<style scoped>\n    .dataframe tbody tr th:only-of-type {\n        vertical-align: middle;\n    }\n\n    .dataframe tbody tr th {\n        vertical-align: top;\n    }\n\n    .dataframe thead th {\n        text-align: right;\n    }\n</style>\n<table border=\"1\" class=\"dataframe\">\n  <thead>\n    <tr style=\"text-align: right;\">\n      <th></th>\n      <th>'Сообщение о проблеме «Несоблюдение требований к размещению информационных вывесок» по адресу Снежная улица д.26</th>\n      <th>Выше второго этажа</th>\n      <th>Ларин А.С.</th>\n      <th>начальник Объединения административно-технических инспекций города Москвы</th>\n      <th>16 Ноября 2020 в 16:31'</th>\n    </tr>\n  </thead>\n  <tbody>\n    <tr>\n      <td>0</td>\n      <td>'Сообщение о проблеме «Неубранная городская те...</td>\n      <td>По адресу Снежная д24 расположена музыкальная ...</td>\n      <td>Кучма А.А.</td>\n      <td>глава управы района Свиблово города Москвы</td>\n      <td>05 Мая 2020 в 15:45'</td>\n    </tr>\n    <tr>\n      <td>1</td>\n      <td>'Сообщение о проблеме «Неубранная городская те...</td>\n      <td>После проведения работ на кабельной канализаци...</td>\n      <td>Ларин А.С.</td>\n      <td>начальник Объединения административно-техниче...</td>\n      <td>01 Марта 2020 в 16:57'</td>\n    </tr>\n    <tr>\n      <td>2</td>\n      <td>'Сообщение о проблеме «Неубранная городская те...</td>\n      <td>Очистите опору освещения. Приведите в надлежащ...</td>\n      <td>Кучма А.А.</td>\n      <td>глава управы района Свиблово города Москвы</td>\n      <td>16 Января 2020 в 13:54'</td>\n    </tr>\n    <tr>\n      <td>3</td>\n      <td>'Сообщение о проблеме «Захламление территории»...</td>\n      <td>Более двух недель лежит куча грунта в перемешк...</td>\n      <td>Сержантов С.А.</td>\n      <td>и.о. главы управы района Свиблово города Москвы</td>\n      <td>24 Августа 2019 в 15:39'</td>\n    </tr>\n    <tr>\n      <td>4</td>\n      <td>'Сообщение о проблеме «Захламление территории»...</td>\n      <td>Осколки бордюрного камня спрятаны за дерево, в...</td>\n      <td>Киселев В.В.</td>\n      <td>глава управы района Свиблово города Москвы</td>\n      <td>05 Мая 2019 в 09:11'</td>\n    </tr>\n  </tbody>\n</table>\n</div>"
     },
     "metadata": {},
     "execution_count": 8
    }
   ],
   "source": [
    "df.head()"
   ]
  },
  {
   "cell_type": "code",
   "execution_count": 20,
   "metadata": {},
   "outputs": [],
   "source": [
    "df['16 Ноября 2020 в 16:31'] = df['16 Ноября 2020 в 16:31\\''].apply(clean_string)"
   ]
  },
  {
   "cell_type": "code",
   "execution_count": 22,
   "metadata": {},
   "outputs": [
    {
     "output_type": "stream",
     "name": "stdout",
     "text": [
      "Empty DataFrame\nColumns: [Column A, Column B, Column C]\nIndex: []\n"
     ]
    }
   ],
   "source": [
    "dictOne = {\"Тема обращения\":[],\n",
    "           \"Суть обращения\":[],\n",
    "           \"Чиновник\":[],\n",
    "           \"Должность\":[],\n",
    "           \"Дата подачи заявления\":[]}\n",
    "print(pd.DataFrame(dictOne))"
   ]
  },
  {
   "cell_type": "code",
   "execution_count": 21,
   "metadata": {},
   "outputs": [
    {
     "output_type": "execute_result",
     "data": {
      "text/plain": [
       "0        05 Мая 2020 в 15:45\n",
       "1      01 Марта 2020 в 16:57\n",
       "2     16 Января 2020 в 13:54\n",
       "3    24 Августа 2019 в 15:39\n",
       "4        05 Мая 2019 в 09:11\n",
       "Name: 16 Ноября 2020 в 16:31, dtype: object"
      ]
     },
     "metadata": {},
     "execution_count": 21
    }
   ],
   "source": [
    "df['16 Ноября 2020 в 16:31'][:5]"
   ]
  },
  {
   "cell_type": "code",
   "execution_count": null,
   "metadata": {},
   "outputs": [],
   "source": []
  }
 ]
}