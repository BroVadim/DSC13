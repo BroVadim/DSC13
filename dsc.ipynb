{
 "metadata": {
  "language_info": {
   "codemirror_mode": {
    "name": "ipython",
    "version": 3
   },
   "file_extension": ".py",
   "mimetype": "text/x-python",
   "name": "python",
   "nbconvert_exporter": "python",
   "pygments_lexer": "ipython3",
   "version": "3.7.4-final"
  },
  "orig_nbformat": 2,
  "kernelspec": {
   "name": "python374jvsc74a57bd0709df3ce15ab67dd2d8269f8dda0bdc6697ee9dab9ed0fbd8ba56f292f917ff1",
   "display_name": "Python 3.7.4 64-bit (conda)"
  }
 },
 "nbformat": 4,
 "nbformat_minor": 2,
 "cells": [
  {
   "cell_type": "code",
   "execution_count": 1,
   "metadata": {},
   "outputs": [],
   "source": [
    "import pandas as pd\n",
    "import re\n",
    "import requests\n",
    "import warnings\n",
    "warnings.filterwarnings(\"ignore\")"
   ]
  },
  {
   "cell_type": "code",
   "execution_count": 2,
   "metadata": {},
   "outputs": [],
   "source": [
    "separator = r'\\', \\''\n",
    "frame_columns_names = [\"Тема обращения\",\"Суть обращения\",\n",
    "                        \"Чиновник\",\"Должность\",\n",
    "                        \"Дата подачи заявления\"]\n",
    "df = pd.read_csv('Mosru_dump_all_pages.csv',\n",
    "                    encoding = 'utf-8',\n",
    "                    sep = separator,\n",
    "                    names = None,\n",
    "                    skiprows = 1)\n",
    "df.columns = frame_columns_names"
   ]
  },
  {
   "cell_type": "code",
   "execution_count": 3,
   "metadata": {},
   "outputs": [],
   "source": [
    "def clean_string(string):\n",
    "    return re.sub('\\'','',string)"
   ]
  },
  {
   "cell_type": "code",
   "execution_count": 4,
   "metadata": {},
   "outputs": [],
   "source": [
    "for column in frame_columns_names:\n",
    "    df[column] = df[column].apply(clean_string)"
   ]
  },
  {
   "cell_type": "code",
   "execution_count": 6,
   "metadata": {},
   "outputs": [
    {
     "output_type": "execute_result",
     "data": {
      "text/plain": [
       "                                      Тема обращения  \\\n",
       "0  Сообщение о проблеме «Неубранная городская тер...   \n",
       "1  Сообщение о проблеме «Неубранная городская тер...   \n",
       "\n",
       "                                      Суть обращения    Чиновник  \\\n",
       "0  После проведения работ на кабельной канализаци...  Ларин А.С.   \n",
       "1  Очистите опору освещения. Приведите в надлежащ...  Кучма А.А.   \n",
       "\n",
       "                                           Должность   Дата подачи заявления  \n",
       "0   начальник Объединения административно-техниче...   01 Марта 2020 в 16:57  \n",
       "1         глава управы района Свиблово города Москвы  16 Января 2020 в 13:54  "
      ],
      "text/html": "<div>\n<style scoped>\n    .dataframe tbody tr th:only-of-type {\n        vertical-align: middle;\n    }\n\n    .dataframe tbody tr th {\n        vertical-align: top;\n    }\n\n    .dataframe thead th {\n        text-align: right;\n    }\n</style>\n<table border=\"1\" class=\"dataframe\">\n  <thead>\n    <tr style=\"text-align: right;\">\n      <th></th>\n      <th>Тема обращения</th>\n      <th>Суть обращения</th>\n      <th>Чиновник</th>\n      <th>Должность</th>\n      <th>Дата подачи заявления</th>\n    </tr>\n  </thead>\n  <tbody>\n    <tr>\n      <td>0</td>\n      <td>Сообщение о проблеме «Неубранная городская тер...</td>\n      <td>После проведения работ на кабельной канализаци...</td>\n      <td>Ларин А.С.</td>\n      <td>начальник Объединения административно-техниче...</td>\n      <td>01 Марта 2020 в 16:57</td>\n    </tr>\n    <tr>\n      <td>1</td>\n      <td>Сообщение о проблеме «Неубранная городская тер...</td>\n      <td>Очистите опору освещения. Приведите в надлежащ...</td>\n      <td>Кучма А.А.</td>\n      <td>глава управы района Свиблово города Москвы</td>\n      <td>16 Января 2020 в 13:54</td>\n    </tr>\n  </tbody>\n</table>\n</div>"
     },
     "metadata": {},
     "execution_count": 6
    }
   ],
   "source": [
    "df.head(2)"
   ]
  },
  {
   "cell_type": "code",
   "execution_count": 8,
   "metadata": {},
   "outputs": [],
   "source": [
    "def search_theme(string):\n",
    "    res = re.findall('«.*»',string)\n",
    "    return res[0] if len(res)>0 else \"\""
   ]
  },
  {
   "cell_type": "code",
   "execution_count": null,
   "metadata": {},
   "outputs": [],
   "source": [
    "def search_address(string):\n",
    "    res = re.findall('по адресу\\s?(.*$)')\n",
    "    return res[0] if len(res)>0 else \"\""
   ]
  },
  {
   "cell_type": "code",
   "execution_count": 9,
   "metadata": {},
   "outputs": [],
   "source": [
    "df[\"theme\"] = df['Тема обращения'].apply(search_theme)"
   ]
  },
  {
   "cell_type": "code",
   "execution_count": null,
   "metadata": {},
   "outputs": [],
   "source": []
  },
  {
   "cell_type": "code",
   "execution_count": 10,
   "metadata": {},
   "outputs": [
    {
     "output_type": "execute_result",
     "data": {
      "text/plain": [
       "                                      Тема обращения  \\\n",
       "0  Сообщение о проблеме «Неубранная городская тер...   \n",
       "1  Сообщение о проблеме «Неубранная городская тер...   \n",
       "2  Сообщение о проблеме «Захламление территории» ...   \n",
       "3  Сообщение о проблеме «Захламление территории» ...   \n",
       "4  Сообщение о проблеме «Несоблюдение требований ...   \n",
       "\n",
       "                                      Суть обращения        Чиновник  \\\n",
       "0  После проведения работ на кабельной канализаци...      Ларин А.С.   \n",
       "1  Очистите опору освещения. Приведите в надлежащ...      Кучма А.А.   \n",
       "2  Более двух недель лежит куча грунта в перемешк...  Сержантов С.А.   \n",
       "3  Осколки бордюрного камня спрятаны за дерево, в...    Киселев В.В.   \n",
       "4  Прошу рассмотреть законность размещения вывеск...    Киселев В.В.   \n",
       "\n",
       "                                           Должность    Дата подачи заявления  \\\n",
       "0   начальник Объединения административно-техниче...    01 Марта 2020 в 16:57   \n",
       "1         глава управы района Свиблово города Москвы   16 Января 2020 в 13:54   \n",
       "2    и.о. главы управы района Свиблово города Москвы  24 Августа 2019 в 15:39   \n",
       "3         глава управы района Свиблово города Москвы      05 Мая 2019 в 09:11   \n",
       "4         глава управы района Свиблово города Москвы  06 Февраля 2019 в 10:29   \n",
       "\n",
       "                                               theme  \n",
       "0                  «Неубранная городская территория»  \n",
       "1                  «Неубранная городская территория»  \n",
       "2                           «Захламление территории»  \n",
       "3                           «Захламление территории»  \n",
       "4  «Несоблюдение требований к размещению информац...  "
      ],
      "text/html": "<div>\n<style scoped>\n    .dataframe tbody tr th:only-of-type {\n        vertical-align: middle;\n    }\n\n    .dataframe tbody tr th {\n        vertical-align: top;\n    }\n\n    .dataframe thead th {\n        text-align: right;\n    }\n</style>\n<table border=\"1\" class=\"dataframe\">\n  <thead>\n    <tr style=\"text-align: right;\">\n      <th></th>\n      <th>Тема обращения</th>\n      <th>Суть обращения</th>\n      <th>Чиновник</th>\n      <th>Должность</th>\n      <th>Дата подачи заявления</th>\n      <th>theme</th>\n    </tr>\n  </thead>\n  <tbody>\n    <tr>\n      <td>0</td>\n      <td>Сообщение о проблеме «Неубранная городская тер...</td>\n      <td>После проведения работ на кабельной канализаци...</td>\n      <td>Ларин А.С.</td>\n      <td>начальник Объединения административно-техниче...</td>\n      <td>01 Марта 2020 в 16:57</td>\n      <td>«Неубранная городская территория»</td>\n    </tr>\n    <tr>\n      <td>1</td>\n      <td>Сообщение о проблеме «Неубранная городская тер...</td>\n      <td>Очистите опору освещения. Приведите в надлежащ...</td>\n      <td>Кучма А.А.</td>\n      <td>глава управы района Свиблово города Москвы</td>\n      <td>16 Января 2020 в 13:54</td>\n      <td>«Неубранная городская территория»</td>\n    </tr>\n    <tr>\n      <td>2</td>\n      <td>Сообщение о проблеме «Захламление территории» ...</td>\n      <td>Более двух недель лежит куча грунта в перемешк...</td>\n      <td>Сержантов С.А.</td>\n      <td>и.о. главы управы района Свиблово города Москвы</td>\n      <td>24 Августа 2019 в 15:39</td>\n      <td>«Захламление территории»</td>\n    </tr>\n    <tr>\n      <td>3</td>\n      <td>Сообщение о проблеме «Захламление территории» ...</td>\n      <td>Осколки бордюрного камня спрятаны за дерево, в...</td>\n      <td>Киселев В.В.</td>\n      <td>глава управы района Свиблово города Москвы</td>\n      <td>05 Мая 2019 в 09:11</td>\n      <td>«Захламление территории»</td>\n    </tr>\n    <tr>\n      <td>4</td>\n      <td>Сообщение о проблеме «Несоблюдение требований ...</td>\n      <td>Прошу рассмотреть законность размещения вывеск...</td>\n      <td>Киселев В.В.</td>\n      <td>глава управы района Свиблово города Москвы</td>\n      <td>06 Февраля 2019 в 10:29</td>\n      <td>«Несоблюдение требований к размещению информац...</td>\n    </tr>\n  </tbody>\n</table>\n</div>"
     },
     "metadata": {},
     "execution_count": 10
    }
   ],
   "source": [
    "df.head()"
   ]
  },
  {
   "cell_type": "code",
   "execution_count": null,
   "metadata": {},
   "outputs": [],
   "source": []
  }
 ]
}